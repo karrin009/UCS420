{
 "cells": [
  {
   "cell_type": "code",
   "execution_count": 5,
   "id": "624e767a-9a8b-45f0-a89f-3d87d768d030",
   "metadata": {},
   "outputs": [
    {
     "data": {
      "text/plain": [
       "array([131, 181, 231, 281, 331])"
      ]
     },
     "execution_count": 5,
     "metadata": {},
     "output_type": "execute_result"
    }
   ],
   "source": [
    "import numpy as np\n",
    "first_initial = 'A'  # Change this to your first initial\n",
    "last_initial = 'B'   # Change this to your last initial\n",
    "\n",
    "X = ord(first_initial) + ord(last_initial)  # ASCII sum\n",
    "sales = np.array([X, X+50, X+100, X+150, X+200])\n",
    "\n",
    "sales"
   ]
  },
  {
   "cell_type": "code",
   "execution_count": 7,
   "id": "e04e7cea-0344-46de-9b0d-5edda6b3fa86",
   "metadata": {},
   "outputs": [
    {
     "data": {
      "text/plain": [
       "(0.06, array([138.86, 191.86, 244.86, 297.86, 350.86]))"
      ]
     },
     "execution_count": 7,
     "metadata": {},
     "output_type": "execute_result"
    }
   ],
   "source": [
    "tax_rate = ((X % 5) + 5) / 100\n",
    "taxed_sales = sales * (1 + tax_rate)\n",
    "\n",
    "tax_rate, taxed_sales"
   ]
  },
  {
   "cell_type": "code",
   "execution_count": 12,
   "id": "e8010731-7d1b-4716-9a26-0d1fb100ebdd",
   "metadata": {},
   "outputs": [
    {
     "data": {
      "text/plain": [
       "array([124.45, 171.95, 207.9 , 252.9 , 297.9 ])"
      ]
     },
     "execution_count": 12,
     "metadata": {},
     "output_type": "execute_result"
    }
   ],
   "source": [
    "discounted_sales = np.where(sales < X+100, sales * 0.95, sales * 0.90)\n",
    "\n",
    "discounted_sales"
   ]
  },
  {
   "cell_type": "code",
   "execution_count": 14,
   "id": "90151760-7f2d-4dd9-9c78-1fb61d057ca6",
   "metadata": {},
   "outputs": [
    {
     "data": {
      "text/plain": [
       "array([[131.  , 181.  , 231.  , 281.  , 331.  ],\n",
       "       [133.62, 184.62, 235.62, 286.62, 337.62],\n",
       "       [136.24, 188.24, 240.24, 292.24, 344.24]])"
      ]
     },
     "execution_count": 14,
     "metadata": {},
     "output_type": "execute_result"
    }
   ],
   "source": [
    "# Creating a 3×5 matrix\n",
    "weekly_sales = np.vstack([sales, sales * 1.02, sales * 1.04])\n",
    "\n",
    "weekly_sales"
   ]
  }
 ],
 "metadata": {
  "kernelspec": {
   "display_name": "Python [conda env:base] *",
   "language": "python",
   "name": "conda-base-py"
  },
  "language_info": {
   "codemirror_mode": {
    "name": "ipython",
    "version": 3
   },
   "file_extension": ".py",
   "mimetype": "text/x-python",
   "name": "python",
   "nbconvert_exporter": "python",
   "pygments_lexer": "ipython3",
   "version": "3.12.7"
  }
 },
 "nbformat": 4,
 "nbformat_minor": 5
}
