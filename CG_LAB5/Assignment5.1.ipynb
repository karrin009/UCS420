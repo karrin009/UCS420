{
 "cells": [
  {
   "cell_type": "markdown",
   "id": "6ecb5329-b094-4ca0-bdb8-2685b9adee1b",
   "metadata": {},
   "source": [
    "Q.1 For the array gfg = np.matrix('[4, 1, 9; 12, 3, 1; 4, 5, 6]'), Find\n",
    "i. Sum of all elements\n",
    "ii. Sum of all elements row-wise\n",
    "iii. Sum of all elements column-wise"
   ]
  },
  {
   "cell_type": "code",
   "execution_count": 13,
   "id": "769406b8-4454-4c93-97d7-216eb93a1978",
   "metadata": {},
   "outputs": [
    {
     "data": {
      "text/plain": [
       "(45,\n",
       " matrix([[14],\n",
       "         [16],\n",
       "         [15]]),\n",
       " matrix([[20,  9, 16]]))"
      ]
     },
     "execution_count": 13,
     "metadata": {},
     "output_type": "execute_result"
    }
   ],
   "source": [
    "import numpy as np\n",
    "\n",
    "gfg = np.matrix('[4, 1, 9; 12, 3, 1; 4, 5, 6]')\n",
    "\n",
    "# i. Sum of all elements\n",
    "sum_all = np.sum(gfg)\n",
    "\n",
    "# ii. Sum of all elements row-wise\n",
    "sum_rows = np.sum(gfg, axis=1)\n",
    "\n",
    "# iii. Sum of all elements column-wise\n",
    "sum_columns = np.sum(gfg, axis=0)\n",
    "\n",
    "sum_all, sum_rows, sum_columns"
   ]
  }
 ],
 "metadata": {
  "kernelspec": {
   "display_name": "Python [conda env:base] *",
   "language": "python",
   "name": "conda-base-py"
  },
  "language_info": {
   "codemirror_mode": {
    "name": "ipython",
    "version": 3
   },
   "file_extension": ".py",
   "mimetype": "text/x-python",
   "name": "python",
   "nbconvert_exporter": "python",
   "pygments_lexer": "ipython3",
   "version": "3.12.7"
  }
 },
 "nbformat": 4,
 "nbformat_minor": 5
}
