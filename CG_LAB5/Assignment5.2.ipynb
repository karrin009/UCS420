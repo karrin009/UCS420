{
 "cells": [
  {
   "cell_type": "markdown",
   "id": "d4ec93b6-3a54-4e4f-8247-5111bc9842b4",
   "metadata": {},
   "source": [
    "Q.2 (a)For the array: array = np.array([10, 52, 62, 16, 16, 54, 453]), find\n",
    "i. Sorted array\n",
    "ii. Indices of sorted array\n",
    "iii. 4 smallest elements\n",
    "iv. 5 largest elements\n",
    "(b) For the array: array = np.array([1.0, 1.2, 2.2, 2.0, 3.0, 2.0]), find\n",
    "i. Integer elements only\n",
    "ii. Float elements only."
   ]
  },
  {
   "cell_type": "code",
   "execution_count": 4,
   "id": "03c6c617-9845-488e-94d3-196a87537947",
   "metadata": {},
   "outputs": [
    {
     "data": {
      "text/plain": [
       "(array([1., 2., 3., 2.]), array([1.2, 2.2]))"
      ]
     },
     "execution_count": 4,
     "metadata": {},
     "output_type": "execute_result"
    }
   ],
   "source": [
    "\n",
    "#a\n",
    "import numpy as np\n",
    "array = np.array([10, 52, 62, 16, 16, 54, 453])\n",
    "\n",
    "# i. Sorted array\n",
    "sorted_array = np.sort(array)\n",
    "\n",
    "# ii. Indices of sorted array\n",
    "sorted_indices = np.argsort(array)\n",
    "\n",
    "# iii. 4 smallest elements\n",
    "smallest_elements = np.sort(array)[:4]\n",
    "\n",
    "# iv. 5 largest elements\n",
    "largest_elements = np.sort(array)[-5:]\n",
    "\n",
    "sorted_array, sorted_indices, smallest_elements, largest_elements\n",
    "\n",
    "#b\n",
    "array = np.array([1.0, 1.2, 2.2, 2.0, 3.0, 2.0])\n",
    "\n",
    "# i. Integer elements only\n",
    "integer_elements = array[array == array.astype(int)]\n",
    "\n",
    "# ii. Float elements only\n",
    "float_elements = array[array != array.astype(int)]\n",
    "\n",
    "integer_elements, float_elements"
   ]
  }
 ],
 "metadata": {
  "kernelspec": {
   "display_name": "Python [conda env:base] *",
   "language": "python",
   "name": "conda-base-py"
  },
  "language_info": {
   "codemirror_mode": {
    "name": "ipython",
    "version": 3
   },
   "file_extension": ".py",
   "mimetype": "text/x-python",
   "name": "python",
   "nbconvert_exporter": "python",
   "pygments_lexer": "ipython3",
   "version": "3.12.7"
  }
 },
 "nbformat": 4,
 "nbformat_minor": 5
}
