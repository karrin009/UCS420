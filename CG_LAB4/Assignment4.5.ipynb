{
 "cells": [
  {
   "cell_type": "code",
   "execution_count": 7,
   "id": "ceb852fd-2365-4a30-9662-2f1f3f716de7",
   "metadata": {},
   "outputs": [
    {
     "name": "stdout",
     "output_type": "stream",
     "text": [
      "Mean: 43.333333333333336\n",
      "Median: 37.5\n",
      "Max: 90\n",
      "Min: 10\n",
      "Unique Elements: [10 15 20 30 35 40 50 60 70 80 90]\n",
      "Reshaped Array:\n",
      " [[10 20 30]\n",
      " [40 50 60]\n",
      " [70 80 90]\n",
      " [15 20 35]]\n",
      "Resized Array:\n",
      " [[10 20 30]\n",
      " [50 60 70]]\n"
     ]
    }
   ],
   "source": [
    "# Create a 2D Array of three rows and four columns\n",
    "ucs420_myname = np.array([[10, 20, 30, 40], [50, 60, 70, 80], [90, 15, 20, 35]])\n",
    "\n",
    "# Compute statistical properties\n",
    "mean_value = np.mean(ucs420_myname)\n",
    "median_value = np.median(ucs420_myname)\n",
    "max_value = np.max(ucs420_myname)\n",
    "min_value = np.min(ucs420_myname)\n",
    "unique_elements = np.unique(ucs420_myname)\n",
    "\n",
    "print(\"Mean:\", mean_value)\n",
    "print(\"Median:\", median_value)\n",
    "print(\"Max:\", max_value)\n",
    "print(\"Min:\", min_value)\n",
    "print(\"Unique Elements:\", unique_elements)\n",
    "\n",
    "# Reshape array to 4 rows and 3 columns\n",
    "reshaped_ucs420_myname = ucs420_myname.reshape(4, 3)\n",
    "print(\"Reshaped Array:\\n\", reshaped_ucs420_myname)\n",
    "\n",
    "# Resize array to 2 rows and 3 columns\n",
    "resized_ucs420_myname = ucs420_myname[:2, :3]  # Truncate to fit new shape\n",
    "print(\"Resized Array:\\n\", resized_ucs420_myname)"
   ]
  },
  {
   "cell_type": "code",
   "execution_count": null,
   "id": "5db0b7d1-c343-4c81-8a09-1cb25957016c",
   "metadata": {},
   "outputs": [],
   "source": []
  }
 ],
 "metadata": {
  "kernelspec": {
   "display_name": "Python [conda env:base] *",
   "language": "python",
   "name": "conda-base-py"
  },
  "language_info": {
   "codemirror_mode": {
    "name": "ipython",
    "version": 3
   },
   "file_extension": ".py",
   "mimetype": "text/x-python",
   "name": "python",
   "nbconvert_exporter": "python",
   "pygments_lexer": "ipython3",
   "version": "3.12.7"
  }
 },
 "nbformat": 4,
 "nbformat_minor": 5
}
