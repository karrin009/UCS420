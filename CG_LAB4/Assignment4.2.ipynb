{
 "cells": [
  {
   "cell_type": "code",
   "execution_count": 6,
   "id": "7fb89333-e1ae-4a71-b365-8be745d378fd",
   "metadata": {},
   "outputs": [
    {
     "name": "stdout",
     "output_type": "stream",
     "text": [
      "[5 4 6 3 2 1]\n"
     ]
    }
   ],
   "source": [
    "import numpy as np\n",
    "arr=np.array([1,2,3,6,4,5])\n",
    "print(arr[::-1])\n"
   ]
  },
  {
   "cell_type": "code",
   "execution_count": 10,
   "id": "09343e60-d9f3-4c45-9427-6acdcd3cfb60",
   "metadata": {},
   "outputs": [
    {
     "name": "stdout",
     "output_type": "stream",
     "text": [
      "1\n"
     ]
    }
   ],
   "source": [
    "#x=np.array([1,2,3,4,5,1,2,1,1,1])\n",
    "y = np.array([1, 1, 1, 2, 3, 4, 2, 4, 3, 3, ])\n",
    "most_frequent=np.bincount(arr).argmax()\n",
    "print(most_frequent)"
   ]
  },
  {
   "cell_type": "code",
   "execution_count": 25,
   "id": "0f97580b-a105-4d85-9c43-a20bada4eef0",
   "metadata": {},
   "outputs": [
    {
     "name": "stdout",
     "output_type": "stream",
     "text": [
      "Most frequent value in x: 1, Indices: [0 5 7 8 9]\n",
      "Most frequent value in y: 1, Indices: [0 1 2]\n"
     ]
    }
   ],
   "source": [
    "# b) Find the most frequent value and their indices\n",
    "x = np.array([1,2,3,4,5,1,2,1,1,1])\n",
    "y = np.array([1, 1,1, 2, 3, 4, 2, 4, 3, 3])\n",
    "\n",
    "# Function to find most frequent element and its indices\n",
    "def most_frequent(arr):\n",
    "    values, counts = np.unique(arr, return_counts=True)\n",
    "    max_count_index = np.argmax(counts)  # Get index of max frequency\n",
    "    most_freq_value = values[max_count_index]\n",
    "    indices = np.where(arr == most_freq_value)[0]\n",
    "    return most_freq_value, indices\n",
    "\n",
    "x_value, x_indices = most_frequent(x)\n",
    "y_value, y_indices = most_frequent(y)\n",
    "\n",
    "print(f\"Most frequent value in x: {x_value}, Indices: {x_indices}\")\n",
    "print(f\"Most frequent value in y: {y_value}, Indices: {y_indices}\")"
   ]
  },
  {
   "cell_type": "code",
   "execution_count": null,
   "id": "5a3525aa-22f3-4210-8ebe-b95949a24c74",
   "metadata": {},
   "outputs": [],
   "source": []
  },
  {
   "cell_type": "code",
   "execution_count": null,
   "id": "d8873c91-dba2-4302-97dc-1204d3567062",
   "metadata": {},
   "outputs": [],
   "source": []
  }
 ],
 "metadata": {
  "kernelspec": {
   "display_name": "Python [conda env:base] *",
   "language": "python",
   "name": "conda-base-py"
  },
  "language_info": {
   "codemirror_mode": {
    "name": "ipython",
    "version": 3
   },
   "file_extension": ".py",
   "mimetype": "text/x-python",
   "name": "python",
   "nbconvert_exporter": "python",
   "pygments_lexer": "ipython3",
   "version": "3.12.7"
  }
 },
 "nbformat": 4,
 "nbformat_minor": 5
}
