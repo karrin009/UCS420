{
 "cells": [
  {
   "cell_type": "code",
   "execution_count": 8,
   "id": "19cab283-7d64-4d99-bd45-eb4281a743ce",
   "metadata": {},
   "outputs": [
    {
     "name": "stdout",
     "output_type": "stream",
     "text": [
      "Array Dimensions: 1\n",
      "Array Shape: (25,)\n",
      "Total Elements: 25\n",
      "Data Type: float64\n",
      "Total Bytes Consumed: 200\n",
      "Reshaped Array:\n",
      " [[ 10.  ]\n",
      " [ 13.75]\n",
      " [ 17.5 ]\n",
      " [ 21.25]\n",
      " [ 25.  ]\n",
      " [ 28.75]\n",
      " [ 32.5 ]\n",
      " [ 36.25]\n",
      " [ 40.  ]\n",
      " [ 43.75]\n",
      " [ 47.5 ]\n",
      " [ 51.25]\n",
      " [ 55.  ]\n",
      " [ 58.75]\n",
      " [ 62.5 ]\n",
      " [ 66.25]\n",
      " [ 70.  ]\n",
      " [ 73.75]\n",
      " [ 77.5 ]\n",
      " [ 81.25]\n",
      " [ 85.  ]\n",
      " [ 88.75]\n",
      " [ 92.5 ]\n",
      " [ 96.25]\n",
      " [100.  ]]\n",
      "Transposed using T attribute: (25,)\n"
     ]
    }
   ],
   "source": [
    "import numpy as np\n",
    "# Create a 1-D NumPy array with 25 evenly spaced numbers from 10 to 100\n",
    "my_name = np.linspace(10, 100, 25)\n",
    "\n",
    "# Print array properties\n",
    "print(\"Array Dimensions:\", my_name.ndim)\n",
    "print(\"Array Shape:\", my_name.shape)\n",
    "print(\"Total Elements:\", my_name.size)\n",
    "print(\"Data Type:\", my_name.dtype)\n",
    "print(\"Total Bytes Consumed:\", my_name.nbytes)\n",
    "\n",
    "# Reshape the array into a column vector (Transpose)\n",
    "reshaped_array = my_name.reshape(25, 1)\n",
    "print(\"Reshaped Array:\\n\", reshaped_array)\n",
    "\n",
    "# Checking if we can use .T attribute\n",
    "transposed_array = my_name.T  # Since it's a 1D array, this won't change its shape\n",
    "print(\"Transposed using T attribute:\", transposed_array.shape)  # It remains 1D"
   ]
  },
  {
   "cell_type": "code",
   "execution_count": null,
   "id": "2eed08b2-0a4e-4332-881d-98584167a05c",
   "metadata": {},
   "outputs": [],
   "source": []
  }
 ],
 "metadata": {
  "kernelspec": {
   "display_name": "Python [conda env:base] *",
   "language": "python",
   "name": "conda-base-py"
  },
  "language_info": {
   "codemirror_mode": {
    "name": "ipython",
    "version": 3
   },
   "file_extension": ".py",
   "mimetype": "text/x-python",
   "name": "python",
   "nbconvert_exporter": "python",
   "pygments_lexer": "ipython3",
   "version": "3.12.7"
  }
 },
 "nbformat": 4,
 "nbformat_minor": 5
}
