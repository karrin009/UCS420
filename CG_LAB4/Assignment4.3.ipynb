{
 "cells": [
  {
   "cell_type": "code",
   "execution_count": 1,
   "id": "19cab283-7d64-4d99-bd45-eb4281a743ce",
   "metadata": {},
   "outputs": [
    {
     "name": "stdout",
     "output_type": "stream",
     "text": [
      "Element at (1st row, 2nd column): 20\n",
      "Element at (3rd row, 1st column): 70\n"
     ]
    }
   ],
   "source": [
    "import numpy as np\n",
    "# Creating a 2D NumPy array\n",
    "arr = np.array([[10, 20, 30], [40, 50, 60], [70, 80, 90]])\n",
    "\n",
    "# a) Access 1st row, 2nd column (indexing starts from 0)\n",
    "first_row_second_col = arr[0, 1]\n",
    "\n",
    "# b) Access 3rd row, 1st column\n",
    "third_row_first_col = arr[2, 0]\n",
    "\n",
    "print(\"Element at (1st row, 2nd column):\", first_row_second_col)\n",
    "print(\"Element at (3rd row, 1st column):\", third_row_first_col)"
   ]
  },
  {
   "cell_type": "code",
   "execution_count": null,
   "id": "84a80db7-e205-45ad-9490-4aa271e90dc2",
   "metadata": {},
   "outputs": [],
   "source": []
  }
 ],
 "metadata": {
  "kernelspec": {
   "display_name": "Python [conda env:base] *",
   "language": "python",
   "name": "conda-base-py"
  },
  "language_info": {
   "codemirror_mode": {
    "name": "ipython",
    "version": 3
   },
   "file_extension": ".py",
   "mimetype": "text/x-python",
   "name": "python",
   "nbconvert_exporter": "python",
   "pygments_lexer": "ipython3",
   "version": "3.12.7"
  }
 },
 "nbformat": 4,
 "nbformat_minor": 5
}
