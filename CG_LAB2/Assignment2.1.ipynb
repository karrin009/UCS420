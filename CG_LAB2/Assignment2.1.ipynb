{
 "cells": [
  {
   "cell_type": "markdown",
   "id": "42882988-d44a-454b-9617-471c0d7284b4",
   "metadata": {},
   "source": [
    "Assignment 2.1"
   ]
  },
  {
   "cell_type": "code",
   "execution_count": 19,
   "id": "f1c4f3b7-1015-451a-a9ac-838cf10a1916",
   "metadata": {},
   "outputs": [
    {
     "name": "stdout",
     "output_type": "stream",
     "text": [
      "[10, 20, 30, 40, 50, 60, 70, 80]\n",
      "[10, 20, 30, 40, 50, 60, 70, 80, 200, 300]\n",
      "[20, 40, 50, 60, 70, 80, 200, 300]\n",
      "[20, 40, 50, 60, 70, 80, 200, 300]\n",
      "[300, 200, 80, 70, 60, 50, 40, 20]\n"
     ]
    }
   ],
   "source": [
    "L=[10,20,30,40,50,60,70,80]\n",
    "print(L)\n",
    "L.append(200)\n",
    "L.append(300)\n",
    "print(L)\n",
    "L.remove(10)\n",
    "L.remove(30)\n",
    "print(L)\n",
    "L.sort()\n",
    "print(L)\n",
    "L.sort(reverse=True)\n",
    "print(L)"
   ]
  },
  {
   "cell_type": "code",
   "execution_count": null,
   "id": "90850c88-6ad4-48e7-9079-eded903f0fd4",
   "metadata": {},
   "outputs": [],
   "source": []
  }
 ],
 "metadata": {
  "kernelspec": {
   "display_name": "Python [conda env:base] *",
   "language": "python",
   "name": "conda-base-py"
  },
  "language_info": {
   "codemirror_mode": {
    "name": "ipython",
    "version": 3
   },
   "file_extension": ".py",
   "mimetype": "text/x-python",
   "name": "python",
   "nbconvert_exporter": "python",
   "pygments_lexer": "ipython3",
   "version": "3.12.7"
  }
 },
 "nbformat": 4,
 "nbformat_minor": 5
}
