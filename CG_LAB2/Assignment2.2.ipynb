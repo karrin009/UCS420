{
 "cells": [
  {
   "cell_type": "markdown",
   "id": "10dbae44-aefa-4a22-8bf4-ca48c6c3de2c",
   "metadata": {},
   "source": [
    "Assignment2.2"
   ]
  },
  {
   "cell_type": "code",
   "execution_count": 9,
   "id": "ab1078e6-6e09-4f0f-9813-14a279bd8926",
   "metadata": {},
   "outputs": [
    {
     "name": "stdout",
     "output_type": "stream",
     "text": [
      "max scores 92\n",
      "index is 5\n",
      "lowest scores 45\n",
      "2\n",
      "[45, 58, 92, 89, 45.4, 76, 89.5, 45]\n"
     ]
    },
    {
     "name": "stdin",
     "output_type": "stream",
     "text": [
      "enter num 76\n"
     ]
    },
    {
     "name": "stdout",
     "output_type": "stream",
     "text": [
      "present\n"
     ]
    }
   ],
   "source": [
    "scores=(45, 89.5, 76, 45.4, 89, 92, 58, 45)\n",
    "#1\n",
    "Highest=max(scores)\n",
    "print(\"max scores\",Highest)\n",
    "idx=scores.index(Highest)\n",
    "print(\"index is\",idx)\n",
    "#2\n",
    "Lowest=min(scores)\n",
    "print(\"lowest scores\",Lowest)\n",
    "print(scores.count(45))\n",
    "#3\n",
    "print(list(scores[::-1]))\n",
    "#4\n",
    "num=int(input(\"enter num\"))\n",
    "if num in scores:\n",
    "    print(\"present\")\n",
    "else:\n",
    "    print(\"404 not found\")"
   ]
  },
  {
   "cell_type": "code",
   "execution_count": null,
   "id": "88296fdd-d57c-4640-98b4-60d18bb99ec3",
   "metadata": {},
   "outputs": [],
   "source": []
  }
 ],
 "metadata": {
  "kernelspec": {
   "display_name": "Python [conda env:base] *",
   "language": "python",
   "name": "conda-base-py"
  },
  "language_info": {
   "codemirror_mode": {
    "name": "ipython",
    "version": 3
   },
   "file_extension": ".py",
   "mimetype": "text/x-python",
   "name": "python",
   "nbconvert_exporter": "python",
   "pygments_lexer": "ipython3",
   "version": "3.12.7"
  }
 },
 "nbformat": 4,
 "nbformat_minor": 5
}
