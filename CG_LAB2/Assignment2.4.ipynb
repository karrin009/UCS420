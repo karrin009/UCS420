{
 "cells": [
  {
   "cell_type": "code",
   "execution_count": 2,
   "id": "e11a0fc0-e33e-43c3-a0e5-99ee3eef905c",
   "metadata": {},
   "outputs": [
    {
     "name": "stdout",
     "output_type": "stream",
     "text": [
      "Unique scores (Union): {34, 45, 78, 23, 56, 90}\n",
      "Common scores (Intersection): {90, 78}\n",
      "Exclusive scores (Symmetric Difference): {34, 45, 23, 56}\n",
      "Is Team A's scores a subset of Team B? False\n",
      "Is Team B's scores a superset of Team A? False\n"
     ]
    },
    {
     "name": "stdin",
     "output_type": "stream",
     "text": [
      "Enter a score to remove from Team A's scores:  34\n"
     ]
    },
    {
     "name": "stdout",
     "output_type": "stream",
     "text": [
      "Score 34 removed from Team A's scores.\n",
      "Updated Team A's scores: {56, 90, 78}\n"
     ]
    }
   ],
   "source": [
    "# Define the sets\n",
    "A = {34, 56, 78, 90}\n",
    "B = {78, 45, 90, 23}\n",
    "\n",
    "# i. Find the unique scores achieved by both teams (union of sets)\n",
    "union_scores = A.union(B)\n",
    "print(\"Unique scores (Union):\", union_scores)\n",
    "\n",
    "# ii. Identify the scores that are common to both teams (intersection of sets)\n",
    "common_scores = A.intersection(B)\n",
    "print(\"Common scores (Intersection):\", common_scores)\n",
    "\n",
    "# iii. Find the scores that are exclusive to each team (symmetric difference)\n",
    "exclusive_scores = A.symmetric_difference(B)\n",
    "print(\"Exclusive scores (Symmetric Difference):\", exclusive_scores)\n",
    "\n",
    "# iv. Check if team A's scores are a subset of team B and if team B's scores are a superset of team A\n",
    "is_subset = A.issubset(B)\n",
    "is_superset = B.issuperset(A)\n",
    "print(\"Is Team A's scores a subset of Team B?\", is_subset)\n",
    "print(\"Is Team B's scores a superset of Team A?\", is_superset)\n",
    "\n",
    "# v. Remove a specific score X (input by the user) from set A if it exists\n",
    "X = int(input(\"Enter a score to remove from Team A's scores: \"))\n",
    "if X in A:\n",
    "    A.remove(X)\n",
    "    print(f\"Score {X} removed from Team A's scores.\")\n",
    "else:\n",
    "    print(f\"Score {X} is not present in Team A's scores.\")\n",
    "\n",
    "# Display the updated set A\n",
    "print(\"Updated Team A's scores:\", A)\n"
   ]
  },
  {
   "cell_type": "code",
   "execution_count": null,
   "id": "3dc9676c-72e8-42b2-a6c6-6a8377fdc560",
   "metadata": {},
   "outputs": [],
   "source": []
  }
 ],
 "metadata": {
  "kernelspec": {
   "display_name": "Python [conda env:base] *",
   "language": "python",
   "name": "conda-base-py"
  },
  "language_info": {
   "codemirror_mode": {
    "name": "ipython",
    "version": 3
   },
   "file_extension": ".py",
   "mimetype": "text/x-python",
   "name": "python",
   "nbconvert_exporter": "python",
   "pygments_lexer": "ipython3",
   "version": "3.12.7"
  }
 },
 "nbformat": 4,
 "nbformat_minor": 5
}
