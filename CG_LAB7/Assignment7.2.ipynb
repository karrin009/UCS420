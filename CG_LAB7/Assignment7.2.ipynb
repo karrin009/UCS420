{
 "cells": [
  {
   "cell_type": "code",
   "execution_count": 31,
   "id": "4cdc2e39-ed0e-452d-930e-198339bc4c8f",
   "metadata": {},
   "outputs": [
    {
     "name": "stdout",
     "output_type": "stream",
     "text": [
      "Absolute Values:\n",
      " [[1 2 3]\n",
      " [4 5 6]]\n",
      "Flattened percentiles: -3.5 -0.5 2.5\n",
      "Column-wise percentiles:\n",
      " [[-2.75 -0.25 -3.75]\n",
      " [-1.5   1.5  -1.5 ]\n",
      " [-0.25  3.25  0.75]]\n",
      "Row-wise percentiles:\n",
      " [[-0.5 -5. ]\n",
      " [ 1.  -4. ]\n",
      " [ 2.   0.5]]\n",
      "Mean, Median, Std (Flattened): -0.5 -0.5 3.8622100754188224\n",
      "Mean, Median, Std (Column-wise):\n",
      " [-1.5  1.5 -1.5] [-1.5  1.5 -1.5] [2.5 3.5 4.5]\n",
      "Mean, Median, Std (Row-wise):\n",
      " [ 0.66666667 -1.66666667] [ 1. -4.] [2.05480467 4.78423336]\n"
     ]
    }
   ],
   "source": [
    "import numpy as np\n",
    "array = np.array([[1, -2, 3], [-4, 5, -6]])\n",
    "\n",
    "# i. Element-wise absolute value\n",
    "abs_array = np.abs(array)\n",
    "print(\"Absolute Values:\\n\", abs_array)\n",
    "\n",
    "# ii. Percentiles (flattened, per column, per row)\n",
    "flat_25, flat_50, flat_75 = np.percentile(array.flatten(), [25, 50, 75])\n",
    "col_percentiles = np.percentile(array, [25, 50, 75], axis=0)\n",
    "row_percentiles = np.percentile(array, [25, 50, 75], axis=1)\n",
    "\n",
    "print(\"Flattened percentiles:\", flat_25, flat_50, flat_75)\n",
    "print(\"Column-wise percentiles:\\n\", col_percentiles)\n",
    "print(\"Row-wise percentiles:\\n\", row_percentiles)\n",
    "\n",
    "# iii. Mean, Median, Standard Deviation\n",
    "mean_flat, median_flat, std_flat = np.mean(array), np.median(array), np.std(array)\n",
    "mean_col, median_col, std_col = np.mean(array, axis=0), np.median(array, axis=0), np.std(array, axis=0)\n",
    "mean_row, median_row, std_row = np.mean(array, axis=1), np.median(array, axis=1), np.std(array, axis=1)\n",
    "\n",
    "print(\"Mean, Median, Std (Flattened):\", mean_flat, median_flat, std_flat)\n",
    "print(\"Mean, Median, Std (Column-wise):\\n\", mean_col, median_col, std_col)\n",
    "print(\"Mean, Median, Std (Row-wise):\\n\", mean_row, median_row, std_row)"
   ]
  }
 ],
 "metadata": {
  "kernelspec": {
   "display_name": "Python [conda env:base] *",
   "language": "python",
   "name": "conda-base-py"
  },
  "language_info": {
   "codemirror_mode": {
    "name": "ipython",
    "version": 3
   },
   "file_extension": ".py",
   "mimetype": "text/x-python",
   "name": "python",
   "nbconvert_exporter": "python",
   "pygments_lexer": "ipython3",
   "version": "3.12.7"
  }
 },
 "nbformat": 4,
 "nbformat_minor": 5
}
