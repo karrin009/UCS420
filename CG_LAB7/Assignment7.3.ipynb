{
 "cells": [
  {
   "cell_type": "code",
   "execution_count": 15,
   "id": "ab2b7a65-65b6-4c0c-9451-d1163d324900",
   "metadata": {},
   "outputs": [
    {
     "name": "stdout",
     "output_type": "stream",
     "text": [
      "Floor Values: [-2. -2. -1.  0.  1.  1.  3.]\n",
      "Ceiling Values: [-1. -1. -0.  1.  2.  2.  3.]\n",
      "Truncated Values: [-1. -1. -0.  0.  1.  1.  3.]\n",
      "Rounded Values: [-2. -2. -0.  0.  2.  2.  3.]\n"
     ]
    }
   ],
   "source": [
    "import numpy as np\n",
    "a = np.array([-1.8, -1.6, -0.5, 0.5, 1.6, 1.8, 3.0])\n",
    "\n",
    "# Floor, Ceiling, Truncate, and Round\n",
    "floor_values = np.floor(a)\n",
    "ceil_values = np.ceil(a)\n",
    "trunc_values = np.trunc(a)\n",
    "round_values = np.round(a)\n",
    "\n",
    "print(\"Floor Values:\", floor_values)\n",
    "print(\"Ceiling Values:\", ceil_values)\n",
    "print(\"Truncated Values:\", trunc_values)\n",
    "print(\"Rounded Values:\", round_values)"
   ]
  }
 ],
 "metadata": {
  "kernelspec": {
   "display_name": "Python [conda env:base] *",
   "language": "python",
   "name": "conda-base-py"
  },
  "language_info": {
   "codemirror_mode": {
    "name": "ipython",
    "version": 3
   },
   "file_extension": ".py",
   "mimetype": "text/x-python",
   "name": "python",
   "nbconvert_exporter": "python",
   "pygments_lexer": "ipython3",
   "version": "3.12.7"
  }
 },
 "nbformat": 4,
 "nbformat_minor": 5
}
