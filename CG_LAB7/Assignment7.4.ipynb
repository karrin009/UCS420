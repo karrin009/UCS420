{
 "cells": [
  {
   "cell_type": "code",
   "execution_count": 14,
   "id": "8e48a1b7-c2ac-47cd-9dcd-25c4a2604976",
   "metadata": {},
   "outputs": [
    {
     "name": "stdout",
     "output_type": "stream",
     "text": [
      "Before swap: [10, 20, 30, 40, 50]\n",
      "After swap: [10, 40, 30, 20, 50]\n"
     ]
    }
   ],
   "source": [
    "def swap_list_elements(lst, idx1, idx2):\n",
    "    temp = lst[idx1]\n",
    "    lst[idx1] = lst[idx2]\n",
    "    lst[idx2] = temp\n",
    "    return lst\n",
    "\n",
    "my_list = [10, 20, 30, 40, 50]\n",
    "print(\"Before swap:\", my_list)\n",
    "print(\"After swap:\", swap_list_elements(my_list, 1, 3))"
   ]
  }
 ],
 "metadata": {
  "kernelspec": {
   "display_name": "Python [conda env:base] *",
   "language": "python",
   "name": "conda-base-py"
  },
  "language_info": {
   "codemirror_mode": {
    "name": "ipython",
    "version": 3
   },
   "file_extension": ".py",
   "mimetype": "text/x-python",
   "name": "python",
   "nbconvert_exporter": "python",
   "pygments_lexer": "ipython3",
   "version": "3.12.7"
  }
 },
 "nbformat": 4,
 "nbformat_minor": 5
}
