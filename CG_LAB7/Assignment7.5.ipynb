{
 "cells": [
  {
   "cell_type": "code",
   "execution_count": 12,
   "id": "97d7d15d-f414-417a-ad67-1f1f645aa02c",
   "metadata": {},
   "outputs": [
    {
     "name": "stdout",
     "output_type": "stream",
     "text": [
      "Before swap: {50, 20, 40, 10, 30}\n",
      "After swap: {40, 10, 50, 20, 30}\n"
     ]
    }
   ],
   "source": [
    "def swap_set_elements(my_set, val1, val2):\n",
    "    temp_list = list(my_set)\n",
    "    if val1 in temp_list and val2 in temp_list:\n",
    "        idx1, idx2 = temp_list.index(val1), temp_list.index(val2)\n",
    "        temp_list[idx1], temp_list[idx2] = temp_list[idx2], temp_list[idx1]\n",
    "    return set(temp_list)\n",
    "\n",
    "my_set = {10, 20, 30, 40, 50}\n",
    "print(\"Before swap:\", my_set)\n",
    "print(\"After swap:\", swap_set_elements(my_set, 20, 40))"
   ]
  }
 ],
 "metadata": {
  "kernelspec": {
   "display_name": "Python [conda env:base] *",
   "language": "python",
   "name": "conda-base-py"
  },
  "language_info": {
   "codemirror_mode": {
    "name": "ipython",
    "version": 3
   },
   "file_extension": ".py",
   "mimetype": "text/x-python",
   "name": "python",
   "nbconvert_exporter": "python",
   "pygments_lexer": "ipython3",
   "version": "3.12.7"
  }
 },
 "nbformat": 4,
 "nbformat_minor": 5
}
