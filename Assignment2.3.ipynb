{
 "cells": [
  {
   "cell_type": "markdown",
   "id": "bb8c1f3b-201b-4bee-9f3d-7fd28d1918fd",
   "metadata": {},
   "source": [
    "Assignment 2.3"
   ]
  },
  {
   "cell_type": "code",
   "execution_count": 1,
   "id": "d5e5b0bd-449c-41da-848f-93e340af9d8b",
   "metadata": {},
   "outputs": [
    {
     "name": "stdout",
     "output_type": "stream",
     "text": [
      "Odd Numbers: [501, 689, 873, 813, 427, 281, 303, 353, 143, 651, 391, 785, 605, 363, 213, 539, 389, 585, 491, 671, 159, 587, 367, 415, 743, 341, 671, 365, 687, 545, 623, 251, 289, 321, 547, 515, 481, 711, 301, 379, 697, 487, 891]\n",
      "Count of Odd Numbers: 43\n",
      "Even Numbers: [210, 582, 676, 512, 720, 508, 888, 674, 878, 844, 148, 556, 460, 108, 668, 120, 170, 460, 796, 140, 200, 846, 796, 104, 500, 144, 504, 536, 284, 228, 316, 650, 810, 540, 778, 558, 760, 496, 472, 244, 846, 154, 690, 632, 828, 560, 200, 358, 780, 564, 706, 178, 290, 870, 770, 830, 172]\n",
      "Count of Even Numbers: 57\n",
      "Prime Numbers: [281, 353, 389, 491, 587, 367, 743, 251, 547, 379, 487]\n",
      "Count of Prime Numbers: 11\n"
     ]
    }
   ],
   "source": [
    "import random\n",
    "\n",
    "# Step 1: Generate 100 random numbers between 100 and 900\n",
    "numbers = []\n",
    "for _ in range(100):\n",
    "    numbers.append(random.randint(100, 900))\n",
    "\n",
    "# Step 2: Find odd numbers\n",
    "odd_numbers = []\n",
    "for num in numbers:\n",
    "    if num % 2 != 0:\n",
    "        odd_numbers.append(num)\n",
    "print(\"Odd Numbers:\", odd_numbers)\n",
    "print(\"Count of Odd Numbers:\", len(odd_numbers))\n",
    "\n",
    "# Step 3: Find even numbers\n",
    "even_numbers = []\n",
    "for num in numbers:\n",
    "    if num % 2 == 0:\n",
    "        even_numbers.append(num)\n",
    "print(\"Even Numbers:\", even_numbers)\n",
    "print(\"Count of Even Numbers:\", len(even_numbers))\n",
    "\n",
    "# Step 4: Find prime numbers\n",
    "prime_numbers = []\n",
    "for num in numbers:\n",
    "    is_prime = True\n",
    "    if num > 1:\n",
    "        for i in range(2, num):\n",
    "            if num % i == 0:\n",
    "                is_prime = False\n",
    "                break\n",
    "    else:\n",
    "        is_prime = False\n",
    "    if is_prime:\n",
    "        prime_numbers.append(num)\n",
    "print(\"Prime Numbers:\", prime_numbers)\n",
    "print(\"Count of Prime Numbers:\", len(prime_numbers))\n"
   ]
  },
  {
   "cell_type": "code",
   "execution_count": null,
   "id": "d93f7c16-3de8-4f70-8875-b7c1dd1ea487",
   "metadata": {},
   "outputs": [],
   "source": []
  }
 ],
 "metadata": {
  "kernelspec": {
   "display_name": "Python [conda env:base] *",
   "language": "python",
   "name": "conda-base-py"
  },
  "language_info": {
   "codemirror_mode": {
    "name": "ipython",
    "version": 3
   },
   "file_extension": ".py",
   "mimetype": "text/x-python",
   "name": "python",
   "nbconvert_exporter": "python",
   "pygments_lexer": "ipython3",
   "version": "3.12.7"
  }
 },
 "nbformat": 4,
 "nbformat_minor": 5
}
