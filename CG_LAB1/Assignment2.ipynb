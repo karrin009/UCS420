{
 "cells": [
  {
   "cell_type": "code",
   "execution_count": 3,
   "id": "83c762c3-f2be-42f8-a8c5-e8b81c6134de",
   "metadata": {},
   "outputs": [
    {
     "name": "stdout",
     "output_type": "stream",
     "text": [
      "60\n"
     ]
    }
   ],
   "source": [
    "a=10\n",
    "b=20\n",
    "c=30\n",
    "d=a+b+c\n",
    "print(d)"
   ]
  },
  {
   "cell_type": "code",
   "execution_count": 7,
   "id": "d9c66d7d-1fc5-445f-b652-3562a35bc49c",
   "metadata": {},
   "outputs": [
    {
     "name": "stdout",
     "output_type": "stream",
     "text": [
      "Karrinsatija CSE27 \n"
     ]
    }
   ],
   "source": [
    "string1=\"Karrin\"\n",
    "String2=\" satija \"\n",
    "String3=\" CSE27 \"\n",
    "String4=string1+String2+String3\n",
    "print(String4)\n"
   ]
  },
  {
   "cell_type": "code",
   "execution_count": null,
   "id": "0b8b3356-1095-41dd-a6d7-44f609762863",
   "metadata": {},
   "outputs": [],
   "source": []
  }
 ],
 "metadata": {
  "kernelspec": {
   "display_name": "Python [conda env:base] *",
   "language": "python",
   "name": "conda-base-py"
  },
  "language_info": {
   "codemirror_mode": {
    "name": "ipython",
    "version": 3
   },
   "file_extension": ".py",
   "mimetype": "text/x-python",
   "name": "python",
   "nbconvert_exporter": "python",
   "pygments_lexer": "ipython3",
   "version": "3.12.7"
  }
 },
 "nbformat": 4,
 "nbformat_minor": 5
}
