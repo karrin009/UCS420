{
 "cells": [
  {
   "cell_type": "code",
   "execution_count": 1,
   "id": "ff3087e1-aaea-408f-b1df-577118296a00",
   "metadata": {},
   "outputs": [
    {
     "name": "stdin",
     "output_type": "stream",
     "text": [
      "Enter N:  7\n"
     ]
    },
    {
     "name": "stdout",
     "output_type": "stream",
     "text": [
      "The sum of all odd numbers from 1 to 7 is: 16\n"
     ]
    }
   ],
   "source": [
    "def sum_of_odds(n):\n",
    "    total = 0\n",
    "    for i in range(1, n + 1, 2):  \n",
    "        total += i\n",
    "    return total\n",
    "n = int(input(\"Enter N: \"))\n",
    "result = sum_of_odds(n)\n",
    "print(\"The sum of all odd numbers from 1 to\", n, \"is:\", result)"
   ]
  },
  {
   "cell_type": "code",
   "execution_count": 3,
   "id": "7cd2d884-3b7d-4720-ad38-20d9166cd734",
   "metadata": {},
   "outputs": [
    {
     "name": "stdin",
     "output_type": "stream",
     "text": [
      "Enter N:  5\n"
     ]
    },
    {
     "name": "stdout",
     "output_type": "stream",
     "text": [
      "The sum of all prime numbers from 1 to 5 is: 10\n"
     ]
    }
   ],
   "source": [
    "def is_prime(num):\n",
    "    if num < 2:  \n",
    "        return False\n",
    "    for i in range(2, int(num**0.5) + 1):  \n",
    "        if num % i == 0:\n",
    "            return False\n",
    "    return True\n",
    "\n",
    "\n",
    "def sum_of_primes(n):\n",
    "    total = 0\n",
    "    for i in range(1, n + 1):\n",
    "        if is_prime(i):  \n",
    "            total += i  \n",
    "    return total\n",
    "n = int(input(\"Enter N: \"))\n",
    "result = sum_of_primes(n)\n",
    "print(\"The sum of all prime numbers from 1 to\", n, \"is:\", result)\n"
   ]
  },
  {
   "cell_type": "code",
   "execution_count": null,
   "id": "167e0c7a-73a8-4205-8f74-d2f9964ee2b1",
   "metadata": {},
   "outputs": [],
   "source": []
  }
 ],
 "metadata": {
  "kernelspec": {
   "display_name": "Python [conda env:base] *",
   "language": "python",
   "name": "conda-base-py"
  },
  "language_info": {
   "codemirror_mode": {
    "name": "ipython",
    "version": 3
   },
   "file_extension": ".py",
   "mimetype": "text/x-python",
   "name": "python",
   "nbconvert_exporter": "python",
   "pygments_lexer": "ipython3",
   "version": "3.12.7"
  }
 },
 "nbformat": 4,
 "nbformat_minor": 5
}
