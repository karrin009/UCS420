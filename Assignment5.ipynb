{
 "cells": [
  {
   "cell_type": "code",
   "execution_count": 1,
   "id": "a9d3145f-f147-4f0a-97d2-157fc567d2d9",
   "metadata": {},
   "outputs": [
    {
     "name": "stdout",
     "output_type": "stream",
     "text": [
      "30\n"
     ]
    }
   ],
   "source": [
    "a=20\n",
    "b=30\n",
    "c=10\n",
    "print(max(a,b,c))"
   ]
  },
  {
   "cell_type": "code",
   "execution_count": 15,
   "id": "2b1c070f-6745-4852-8465-79c6cf0b17bf",
   "metadata": {},
   "outputs": [
    {
     "name": "stdin",
     "output_type": "stream",
     "text": [
      "Enter N:  81\n"
     ]
    },
    {
     "name": "stdout",
     "output_type": "stream",
     "text": [
      "The sum of all numbers divisible by 7 or 9 from 1 to 81 is: 63\n"
     ]
    }
   ],
   "source": [
    "n = int(input(\"Enter N: \"))\n",
    "sum = 0\n",
    "\n",
    "\n",
    "for i in range(1, n + 1):\n",
    "   \n",
    "    if i % 7 == 0 and i % 9 == 0:\n",
    "        sum += i  \n",
    "\n",
    "\n",
    "print(\"The sum of all numbers divisible by 7 or 9 from 1 to\", n, \"is:\", sum)\n"
   ]
  },
  {
   "cell_type": "code",
   "execution_count": 19,
   "id": "4a7047f8-5e69-4dff-b65e-39d7e1e145c4",
   "metadata": {},
   "outputs": [
    {
     "name": "stdin",
     "output_type": "stream",
     "text": [
      "Enter N:  5\n"
     ]
    },
    {
     "name": "stdout",
     "output_type": "stream",
     "text": [
      "The sum of all prime numbers from 1 to 5 is: 10\n"
     ]
    }
   ],
   "source": [
    "n = int(input(\"Enter N: \"))\n",
    "sum_of_primes = 0\n",
    "\n",
    "\n",
    "for num in range(2, n + 1):  \n",
    "    is_prime = True\n",
    "    \n",
    "    for i in range(2, int(num**0.5) + 1):\n",
    "        if num % i == 0:\n",
    "            is_prime = False\n",
    "            break\n",
    "   \n",
    "    if is_prime:\n",
    "        sum_of_primes += num\n",
    "\n",
    "# Print the result\n",
    "print(\"The sum of all prime numbers from 1 to\", n, \"is:\", sum_of_primes)\n"
   ]
  },
  {
   "cell_type": "code",
   "execution_count": null,
   "id": "2dea2346-6204-4d7e-ab79-7135c78f9c7d",
   "metadata": {},
   "outputs": [],
   "source": []
  }
 ],
 "metadata": {
  "kernelspec": {
   "display_name": "Python [conda env:base] *",
   "language": "python",
   "name": "conda-base-py"
  },
  "language_info": {
   "codemirror_mode": {
    "name": "ipython",
    "version": 3
   },
   "file_extension": ".py",
   "mimetype": "text/x-python",
   "name": "python",
   "nbconvert_exporter": "python",
   "pygments_lexer": "ipython3",
   "version": "3.12.7"
  }
 },
 "nbformat": 4,
 "nbformat_minor": 5
}
